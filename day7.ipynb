{
  "nbformat": 4,
  "nbformat_minor": 0,
  "metadata": {
    "colab": {
      "provenance": []
    },
    "kernelspec": {
      "name": "python3",
      "display_name": "Python 3"
    },
    "language_info": {
      "name": "python"
    }
  },
  "cells": [
    {
      "cell_type": "code",
      "execution_count": 1,
      "metadata": {
        "colab": {
          "base_uri": "https://localhost:8080/"
        },
        "id": "kcKsPjW7Z7zK",
        "outputId": "365e6b3d-97de-4c6d-c602-704bf5ec0ff4"
      },
      "outputs": [
        {
          "output_type": "stream",
          "name": "stdout",
          "text": [
            "yes 1\n",
            "yes 2\n",
            "yes 3\n",
            "yes 4\n",
            "yes 5\n",
            "yes 6\n",
            "yes 7\n",
            "yes 8\n",
            "yes 9\n"
          ]
        }
      ],
      "source": [
        "x=1\n",
        "while x<10:\n",
        "    print('yes',x)\n",
        "    x+=1"
      ]
    },
    {
      "cell_type": "code",
      "source": [
        "y=[40,20,80,50,30,60,90]\n",
        "y"
      ],
      "metadata": {
        "colab": {
          "base_uri": "https://localhost:8080/"
        },
        "id": "0yfyyJ4DZ84S",
        "outputId": "f8cae56c-4450-4cdd-9cba-f5bc0cdbe8d1"
      },
      "execution_count": 3,
      "outputs": [
        {
          "output_type": "execute_result",
          "data": {
            "text/plain": [
              "[40, 20, 80, 50, 30, 60, 90]"
            ]
          },
          "metadata": {},
          "execution_count": 3
        }
      ]
    },
    {
      "cell_type": "code",
      "source": [
        "print(y)"
      ],
      "metadata": {
        "colab": {
          "base_uri": "https://localhost:8080/"
        },
        "id": "BQVX9HMhZ8uJ",
        "outputId": "3b4637f0-3f81-44ad-c8a8-c5a11dfeedc3"
      },
      "execution_count": 10,
      "outputs": [
        {
          "output_type": "stream",
          "name": "stdout",
          "text": [
            "[40, 20, 80, 50, 30, 60, 90]\n"
          ]
        }
      ]
    },
    {
      "cell_type": "code",
      "source": [
        "for t in y:\n",
        "  print(t*85)"
      ],
      "metadata": {
        "colab": {
          "base_uri": "https://localhost:8080/"
        },
        "id": "075mU62Cak0D",
        "outputId": "bdf2f727-9a47-4fc5-a736-b219fc5c99d2"
      },
      "execution_count": 7,
      "outputs": [
        {
          "output_type": "stream",
          "name": "stdout",
          "text": [
            "3400\n",
            "1700\n",
            "6800\n",
            "4250\n",
            "2550\n",
            "5100\n",
            "7650\n"
          ]
        }
      ]
    },
    {
      "cell_type": "code",
      "source": [
        "for t in y:\n",
        "  print(t*5+10)"
      ],
      "metadata": {
        "colab": {
          "base_uri": "https://localhost:8080/"
        },
        "id": "EE5My507apfP",
        "outputId": "68f34689-bbc8-4b6e-cc92-97f9dfc34302"
      },
      "execution_count": 8,
      "outputs": [
        {
          "output_type": "stream",
          "name": "stdout",
          "text": [
            "210\n",
            "110\n",
            "410\n",
            "260\n",
            "160\n",
            "310\n",
            "460\n"
          ]
        }
      ]
    },
    {
      "cell_type": "code",
      "source": [
        "t=[]\n",
        "for i in y:\n",
        "  t.append(i*5+10)"
      ],
      "metadata": {
        "id": "4c-1w2jFbKy2"
      },
      "execution_count": 18,
      "outputs": []
    },
    {
      "cell_type": "code",
      "source": [
        "t"
      ],
      "metadata": {
        "colab": {
          "base_uri": "https://localhost:8080/"
        },
        "id": "WIN1066ebjUI",
        "outputId": "4b569476-fecf-4bc1-94c1-910b0dbe6f11"
      },
      "execution_count": 19,
      "outputs": [
        {
          "output_type": "execute_result",
          "data": {
            "text/plain": [
              "[210, 110, 410, 260, 160, 310, 460]"
            ]
          },
          "metadata": {},
          "execution_count": 19
        }
      ]
    },
    {
      "cell_type": "code",
      "source": [
        "num=[31,45,66,33,90,78,67,87,89,93,25,59,9,81]\n",
        "num"
      ],
      "metadata": {
        "colab": {
          "base_uri": "https://localhost:8080/"
        },
        "id": "bV4rBQb7cxpw",
        "outputId": "5bc1359c-89cb-4e1c-d937-868d6224375f"
      },
      "execution_count": 20,
      "outputs": [
        {
          "output_type": "execute_result",
          "data": {
            "text/plain": [
              "[31, 45, 66, 33, 90, 78, 67, 87, 89, 93, 25, 59, 9, 81]"
            ]
          },
          "metadata": {},
          "execution_count": 20
        }
      ]
    },
    {
      "cell_type": "code",
      "source": [
        "evens = [num for num in num if num % 2 == 0]\n",
        "odds = [num for num in num if num % 2 != 0]\n",
        "\n",
        "print(\"Even numbers:\", evens)\n",
        "print(\"Odd numbers:\", odds)"
      ],
      "metadata": {
        "colab": {
          "base_uri": "https://localhost:8080/"
        },
        "id": "LEFwCSqedU5b",
        "outputId": "08f61944-01b1-42d1-dbc1-37316e2c6115"
      },
      "execution_count": 22,
      "outputs": [
        {
          "output_type": "stream",
          "name": "stdout",
          "text": [
            "Even numbers: [66, 90, 78]\n",
            "Odd numbers: [31, 45, 33, 67, 87, 89, 93, 25, 59, 9, 81]\n"
          ]
        }
      ]
    },
    {
      "cell_type": "code",
      "source": [
        "s = []\n",
        "g = []\n",
        "\n",
        "for t in num:\n",
        "  if t % 2 == 0:\n",
        "    s.append(t)\n",
        "  else:\n",
        "    g.append(t)"
      ],
      "metadata": {
        "id": "An-S-KBKdm-0"
      },
      "execution_count": 25,
      "outputs": []
    },
    {
      "cell_type": "code",
      "source": [
        "s"
      ],
      "metadata": {
        "colab": {
          "base_uri": "https://localhost:8080/"
        },
        "id": "NNKwzL0RfOxU",
        "outputId": "f7971734-06ac-4fed-92a2-591d442b91eb"
      },
      "execution_count": 26,
      "outputs": [
        {
          "output_type": "execute_result",
          "data": {
            "text/plain": [
              "[66, 90, 78]"
            ]
          },
          "metadata": {},
          "execution_count": 26
        }
      ]
    },
    {
      "cell_type": "code",
      "source": [
        "g"
      ],
      "metadata": {
        "colab": {
          "base_uri": "https://localhost:8080/"
        },
        "id": "JT5hS-eqfPfZ",
        "outputId": "20bd79df-0af2-40d0-e5d2-4d7ba8b3ec37"
      },
      "execution_count": 27,
      "outputs": [
        {
          "output_type": "execute_result",
          "data": {
            "text/plain": [
              "[31, 45, 33, 67, 87, 89, 93, 25, 59, 9, 81]"
            ]
          },
          "metadata": {},
          "execution_count": 27
        }
      ]
    },
    {
      "cell_type": "code",
      "source": [
        "num"
      ],
      "metadata": {
        "colab": {
          "base_uri": "https://localhost:8080/"
        },
        "id": "N0zZEVA5fQUP",
        "outputId": "87c0f9dc-199d-4c56-edc3-2ed8acce5f31"
      },
      "execution_count": 34,
      "outputs": [
        {
          "output_type": "execute_result",
          "data": {
            "text/plain": [
              "[31, 45, 66, 33, 90, 75, 67, 87, 89, 93, 25, 59, 9, 81]"
            ]
          },
          "metadata": {},
          "execution_count": 34
        }
      ]
    },
    {
      "cell_type": "code",
      "source": [
        "z=str(num)"
      ],
      "metadata": {
        "id": "O3aB1a9chHnm"
      },
      "execution_count": 47,
      "outputs": []
    },
    {
      "cell_type": "code",
      "source": [
        "z.replace('8', '5')"
      ],
      "metadata": {
        "colab": {
          "base_uri": "https://localhost:8080/",
          "height": 36
        },
        "id": "evBsvrWojSMt",
        "outputId": "5a2bc9f7-eeac-47c4-ea7b-35686159e030"
      },
      "execution_count": 48,
      "outputs": [
        {
          "output_type": "execute_result",
          "data": {
            "text/plain": [
              "'[31, 45, 66, 33, 90, 75, 67, 57, 59, 93, 25, 59, 9, 51]'"
            ],
            "application/vnd.google.colaboratory.intrinsic+json": {
              "type": "string"
            }
          },
          "metadata": {},
          "execution_count": 48
        }
      ]
    },
    {
      "cell_type": "code",
      "source": [],
      "metadata": {
        "id": "b-8XYCjakOrg"
      },
      "execution_count": null,
      "outputs": []
    }
  ]
}