{
 "cells": [
  {
   "cell_type": "code",
   "execution_count": 1,
   "id": "656bdc8a",
   "metadata": {},
   "outputs": [],
   "source": [
    "# addition +\n",
    "# substraction -\n",
    "# multiplication *\n",
    "# modulus %\n",
    "# power **"
   ]
  },
  {
   "cell_type": "code",
   "execution_count": null,
   "id": "87b39da6",
   "metadata": {},
   "outputs": [],
   "source": []
  },
  {
   "cell_type": "code",
   "execution_count": 2,
   "id": "85a84acc",
   "metadata": {},
   "outputs": [],
   "source": [
    "a=12\n",
    "b=13"
   ]
  },
  {
   "cell_type": "code",
   "execution_count": 3,
   "id": "fe4ad3b7",
   "metadata": {},
   "outputs": [
    {
     "data": {
      "text/plain": [
       "25"
      ]
     },
     "execution_count": 3,
     "metadata": {},
     "output_type": "execute_result"
    }
   ],
   "source": [
    "a + b"
   ]
  },
  {
   "cell_type": "code",
   "execution_count": 4,
   "id": "b56fe69a",
   "metadata": {},
   "outputs": [
    {
     "data": {
      "text/plain": [
       "156"
      ]
     },
     "execution_count": 4,
     "metadata": {},
     "output_type": "execute_result"
    }
   ],
   "source": [
    "a * b"
   ]
  },
  {
   "cell_type": "code",
   "execution_count": 5,
   "id": "7d7789ac",
   "metadata": {},
   "outputs": [
    {
     "data": {
      "text/plain": [
       "12"
      ]
     },
     "execution_count": 5,
     "metadata": {},
     "output_type": "execute_result"
    }
   ],
   "source": [
    "a % b"
   ]
  },
  {
   "cell_type": "code",
   "execution_count": 7,
   "id": "b388da33",
   "metadata": {},
   "outputs": [
    {
     "data": {
      "text/plain": [
       "12"
      ]
     },
     "execution_count": 7,
     "metadata": {},
     "output_type": "execute_result"
    }
   ],
   "source": [
    "a"
   ]
  },
  {
   "cell_type": "code",
   "execution_count": 8,
   "id": "b7e384b0",
   "metadata": {},
   "outputs": [
    {
     "data": {
      "text/plain": [
       "13"
      ]
     },
     "execution_count": 8,
     "metadata": {},
     "output_type": "execute_result"
    }
   ],
   "source": [
    "b"
   ]
  },
  {
   "cell_type": "code",
   "execution_count": null,
   "id": "71856987",
   "metadata": {},
   "outputs": [],
   "source": [
    "< > >= <= == !="
   ]
  },
  {
   "cell_type": "code",
   "execution_count": 10,
   "id": "6c742196",
   "metadata": {},
   "outputs": [
    {
     "data": {
      "text/plain": [
       "True"
      ]
     },
     "execution_count": 10,
     "metadata": {},
     "output_type": "execute_result"
    }
   ],
   "source": [
    "a<b"
   ]
  },
  {
   "cell_type": "code",
   "execution_count": 11,
   "id": "cca55635",
   "metadata": {},
   "outputs": [
    {
     "data": {
      "text/plain": [
       "True"
      ]
     },
     "execution_count": 11,
     "metadata": {},
     "output_type": "execute_result"
    }
   ],
   "source": [
    "a!=b"
   ]
  },
  {
   "cell_type": "code",
   "execution_count": 12,
   "id": "468f1da4",
   "metadata": {},
   "outputs": [
    {
     "data": {
      "text/plain": [
       "False"
      ]
     },
     "execution_count": 12,
     "metadata": {},
     "output_type": "execute_result"
    }
   ],
   "source": [
    "a>=b"
   ]
  },
  {
   "cell_type": "code",
   "execution_count": 13,
   "id": "332c533a",
   "metadata": {},
   "outputs": [
    {
     "data": {
      "text/plain": [
       "True"
      ]
     },
     "execution_count": 13,
     "metadata": {},
     "output_type": "execute_result"
    }
   ],
   "source": [
    "a<=b"
   ]
  },
  {
   "cell_type": "code",
   "execution_count": 14,
   "id": "9567c90b",
   "metadata": {},
   "outputs": [
    {
     "data": {
      "text/plain": [
       "False"
      ]
     },
     "execution_count": 14,
     "metadata": {},
     "output_type": "execute_result"
    }
   ],
   "source": [
    "a>b"
   ]
  },
  {
   "cell_type": "code",
   "execution_count": 15,
   "id": "1e1cd55d",
   "metadata": {},
   "outputs": [
    {
     "data": {
      "text/plain": [
       "False"
      ]
     },
     "execution_count": 15,
     "metadata": {},
     "output_type": "execute_result"
    }
   ],
   "source": [
    "a==b"
   ]
  },
  {
   "cell_type": "code",
   "execution_count": null,
   "id": "875b93d6",
   "metadata": {},
   "outputs": [],
   "source": [
    "# logical operators"
   ]
  },
  {
   "cell_type": "code",
   "execution_count": null,
   "id": "7ae293e9",
   "metadata": {},
   "outputs": [],
   "source": [
    "and \n",
    "\n",
    "or \n",
    "\n",
    "not\n"
   ]
  },
  {
   "cell_type": "code",
   "execution_count": 21,
   "id": "86b77819",
   "metadata": {},
   "outputs": [],
   "source": [
    "a=50"
   ]
  },
  {
   "cell_type": "code",
   "execution_count": 20,
   "id": "e3c08067",
   "metadata": {},
   "outputs": [],
   "source": [
    "b=40\n"
   ]
  },
  {
   "cell_type": "code",
   "execution_count": 22,
   "id": "639e971f",
   "metadata": {},
   "outputs": [
    {
     "data": {
      "text/plain": [
       "50"
      ]
     },
     "execution_count": 22,
     "metadata": {},
     "output_type": "execute_result"
    }
   ],
   "source": [
    "a"
   ]
  },
  {
   "cell_type": "code",
   "execution_count": 23,
   "id": "be0e4790",
   "metadata": {},
   "outputs": [
    {
     "data": {
      "text/plain": [
       "40"
      ]
     },
     "execution_count": 23,
     "metadata": {},
     "output_type": "execute_result"
    }
   ],
   "source": [
    "b"
   ]
  },
  {
   "cell_type": "code",
   "execution_count": 24,
   "id": "0a7f08b0",
   "metadata": {},
   "outputs": [
    {
     "data": {
      "text/plain": [
       "False"
      ]
     },
     "execution_count": 24,
     "metadata": {},
     "output_type": "execute_result"
    }
   ],
   "source": [
    "a  > 100"
   ]
  },
  {
   "cell_type": "code",
   "execution_count": 25,
   "id": "0f8119a6",
   "metadata": {},
   "outputs": [
    {
     "data": {
      "text/plain": [
       "False"
      ]
     },
     "execution_count": 25,
     "metadata": {},
     "output_type": "execute_result"
    }
   ],
   "source": [
    "(a>b) and (a>100)"
   ]
  },
  {
   "cell_type": "code",
   "execution_count": 26,
   "id": "d1aa3673",
   "metadata": {
    "scrolled": true
   },
   "outputs": [
    {
     "data": {
      "text/plain": [
       "True"
      ]
     },
     "execution_count": 26,
     "metadata": {},
     "output_type": "execute_result"
    }
   ],
   "source": [
    "(a>b) or (a<b) "
   ]
  },
  {
   "cell_type": "code",
   "execution_count": null,
   "id": "50f66a32",
   "metadata": {},
   "outputs": [],
   "source": [
    "True and True   --- True \n",
    "True and False  --- False\n",
    "False and True  --- False\n",
    "False and False --- False "
   ]
  },
  {
   "cell_type": "code",
   "execution_count": null,
   "id": "ee6d2d73",
   "metadata": {},
   "outputs": [],
   "source": [
    "True or True   --- True \n",
    "True or False  --- True\n",
    "False or True  --- True\n",
    "False or False --- False "
   ]
  },
  {
   "cell_type": "code",
   "execution_count": null,
   "id": "c8313f0f",
   "metadata": {},
   "outputs": [],
   "source": [
    "# q1\n",
    "x=34.56\n",
    "y=3.5\n",
    "\n",
    "#all arithmatic operators\n",
    "#all comparison operators\n",
    "#and or"
   ]
  }
 ],
 "metadata": {
  "kernelspec": {
   "display_name": "Python 3 (ipykernel)",
   "language": "python",
   "name": "python3"
  },
  "language_info": {
   "codemirror_mode": {
    "name": "ipython",
    "version": 3
   },
   "file_extension": ".py",
   "mimetype": "text/x-python",
   "name": "python",
   "nbconvert_exporter": "python",
   "pygments_lexer": "ipython3",
   "version": "3.11.4"
  }
 },
 "nbformat": 4,
 "nbformat_minor": 5
}
